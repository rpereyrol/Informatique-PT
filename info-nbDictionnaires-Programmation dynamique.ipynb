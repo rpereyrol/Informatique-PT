{
 "cells": [
  {
   "cell_type": "markdown",
   "metadata": {},
   "source": [
    "# Dictionnaires - programmation dynamique"
   ]
  },
  {
   "cell_type": "markdown",
   "metadata": {},
   "source": [
    "## Dictionnaires."
   ]
  },
  {
   "cell_type": "markdown",
   "metadata": {},
   "source": [
    "### Types muables - immuables."
   ]
  },
  {
   "cell_type": "code",
   "execution_count": 15,
   "metadata": {},
   "outputs": [
    {
     "name": "stdout",
     "output_type": "stream",
     "text": [
      "[4, 2, 3]\n"
     ]
    }
   ],
   "source": [
    "a = [1, 2, 3]\n",
    "b = a\n",
    "b[0] = 4\n",
    "print(a)"
   ]
  },
  {
   "cell_type": "code",
   "execution_count": 16,
   "metadata": {},
   "outputs": [
    {
     "name": "stdout",
     "output_type": "stream",
     "text": [
      "a vaut :  0\n",
      "f(a) renvoie :  1\n",
      "a vaut :  0\n"
     ]
    }
   ],
   "source": [
    "def f(x: int) -> int:\n",
    "    x += 1\n",
    "    return x\n",
    "a = 0\n",
    "print('a vaut : ', a)\n",
    "print('f(a) renvoie : ', f(a))\n",
    "print('a vaut : ', a)"
   ]
  },
  {
   "cell_type": "code",
   "execution_count": 17,
   "metadata": {},
   "outputs": [
    {
     "name": "stdout",
     "output_type": "stream",
     "text": [
      "l vaut :  [0]\n",
      "g(l) renvoie :  [0, 1]\n",
      "l vaut :  [0, 1]\n"
     ]
    }
   ],
   "source": [
    "def g(x: list) -> list:\n",
    "    x.append(1)\n",
    "    return x\n",
    "\n",
    "l = [0]\n",
    "print('l vaut : ', l)\n",
    "print('g(l) renvoie : ', g(l))\n",
    "print('l vaut : ', l)     \n"
   ]
  },
  {
   "cell_type": "markdown",
   "metadata": {},
   "source": [
    "### Structure de dictionnaire."
   ]
  },
  {
   "cell_type": "code",
   "execution_count": 18,
   "metadata": {},
   "outputs": [],
   "source": [
    "animaux = {'chien': 'dog', 'chat': 'cat', 'oiseau': 'bird'}\n",
    "pattes = {'mouche': 6, 'araignée': 8, 'mouton': 5}\n",
    "cours_info = {}"
   ]
  },
  {
   "cell_type": "code",
   "execution_count": 19,
   "metadata": {},
   "outputs": [
    {
     "name": "stdout",
     "output_type": "stream",
     "text": [
      "cat\n"
     ]
    }
   ],
   "source": [
    "print(animaux['chat']) # renvoie cat\n",
    "pattes['mouton']=4\n",
    "animaux['serpent']='snake'\n",
    "cours_info[(20,9)]='Révisions'\n",
    "cours_info[(11,10)]='Bases de données'\n",
    "cours_info[(29,11)]='Dictionnaires'"
   ]
  },
  {
   "cell_type": "code",
   "execution_count": 20,
   "metadata": {},
   "outputs": [
    {
     "name": "stdout",
     "output_type": "stream",
     "text": [
      "4\n"
     ]
    }
   ],
   "source": [
    "# Pas de cours d'informatique à Noël    \n",
    "if (25, 12) in cours_info:\n",
    "    del cours_info[(25, 12)]\n",
    "# nombre d'animaux connus\n",
    "print(len(animaux)) "
   ]
  },
  {
   "cell_type": "code",
   "execution_count": 21,
   "metadata": {},
   "outputs": [
    {
     "name": "stdout",
     "output_type": "stream",
     "text": [
      "325\n",
      "322818021289917443\n",
      "5055926124171269620\n",
      "1697530509636471186\n"
     ]
    }
   ],
   "source": [
    "print(hash(325))\n",
    "print(hash(3.14))\n",
    "print(hash('Bonjour !'))\n",
    "print(hash(('Charles', 3)))"
   ]
  },
  {
   "cell_type": "markdown",
   "metadata": {},
   "source": [
    "## Programmation dynamique."
   ]
  },
  {
   "cell_type": "markdown",
   "metadata": {},
   "source": [
    "### Mémoïsation - coefficients binomiaux."
   ]
  },
  {
   "cell_type": "markdown",
   "metadata": {},
   "source": [
    "Méthode récursive."
   ]
  },
  {
   "cell_type": "code",
   "execution_count": 22,
   "metadata": {},
   "outputs": [
    {
     "name": "stdout",
     "output_type": "stream",
     "text": [
      "30045015\n"
     ]
    }
   ],
   "source": [
    "def binomial(n: int, p: int) -> int:\n",
    "    if p == 0:\n",
    "        return 1\n",
    "    elif p > n:\n",
    "        return 0\n",
    "    else:\n",
    "        return binomial(n-1, p-1)+binomial(n-1, p)\n",
    "\n",
    "\n",
    "# C'est très long (plusieurs dizaines de secondes)\n",
    "print(binomial(30, 20))\n"
   ]
  },
  {
   "cell_type": "markdown",
   "metadata": {},
   "source": [
    "Avec une variable globale."
   ]
  },
  {
   "cell_type": "code",
   "execution_count": 23,
   "metadata": {},
   "outputs": [
    {
     "name": "stdout",
     "output_type": "stream",
     "text": [
      "30045015\n"
     ]
    }
   ],
   "source": [
    "mem = {}\n",
    "\n",
    "\n",
    "def binomial(n: int, p: int) -> int:\n",
    "    if (n, p) not in mem:\n",
    "        if p == 0:\n",
    "            mem[(n, p)] = 1\n",
    "        elif p > n:\n",
    "            mem[(n, p)] = 0\n",
    "        else:\n",
    "            mem[(n, p)] = binomial(n-1, p-1)+binomial(n-1, p)\n",
    "    return mem[(n, p)]\n",
    "\n",
    "\n",
    "print(binomial(30, 20))\n"
   ]
  },
  {
   "cell_type": "markdown",
   "metadata": {},
   "source": [
    "Avec une variable locale et une fonction imbriquée."
   ]
  },
  {
   "cell_type": "code",
   "execution_count": 24,
   "metadata": {},
   "outputs": [
    {
     "name": "stdout",
     "output_type": "stream",
     "text": [
      "30045015\n"
     ]
    }
   ],
   "source": [
    "def binomial(n: int, p: int) -> int:\n",
    "    mem = {}\n",
    "\n",
    "    def b(n: int, p: int) -> int:\n",
    "        if (n, p) not in mem:\n",
    "            if p == 0:\n",
    "                mem[(n, p)] = 1\n",
    "            elif p > n:\n",
    "                mem[(n, p)] = 0\n",
    "            else:\n",
    "                mem[(n, p)] = b(n-1, p-1)+b(n-1, p)\n",
    "        return mem[(n, p)]\n",
    "    return b(n, p)\n",
    "\n",
    "\n",
    "print(binomial(30, 20))\n"
   ]
  },
  {
   "cell_type": "markdown",
   "metadata": {},
   "source": [
    "Avec un paramètre par défaut. Un peu subtil !"
   ]
  },
  {
   "cell_type": "code",
   "execution_count": 25,
   "metadata": {},
   "outputs": [
    {
     "name": "stdout",
     "output_type": "stream",
     "text": [
      "30045015\n"
     ]
    }
   ],
   "source": [
    "def binomial(n: int, p: int, mem={}) -> int:\n",
    "    if (n, p) not in mem:\n",
    "        if p == 0:\n",
    "            mem[(n, p)] = 1\n",
    "        elif p > n:\n",
    "            mem[(n, p)] = 0\n",
    "        else:\n",
    "            mem[(n, p)] = binomial(n-1, p-1)+binomial(n-1, p)\n",
    "    return mem[(n, p)]\n",
    "\n",
    "\n",
    "print(binomial(30, 20))\n"
   ]
  },
  {
   "cell_type": "markdown",
   "metadata": {},
   "source": [
    "Calcul de bas en haut."
   ]
  },
  {
   "cell_type": "code",
   "execution_count": 26,
   "metadata": {},
   "outputs": [
    {
     "name": "stdout",
     "output_type": "stream",
     "text": [
      "1 \n",
      "1 1 \n",
      "1 2 1 \n",
      "1 3 3 1 \n",
      "1 4 6 4 1 \n",
      "1 5 10 10 5 1 \n",
      "1 6 15 20 15 6 1 \n",
      "1 7 21 35 35 21 7 1 \n",
      "1 8 28 56 70 56 28 8 1 \n",
      "1 9 36 84 126 126 84 36 9 1 \n",
      "1 10 45 120 210 252 210 120 45 10 1 \n"
     ]
    }
   ],
   "source": [
    "import numpy as np\n",
    "\n",
    "def binomial(n: int) -> int:\n",
    "    B = np.zeros((n+1, n+1), dtype=int)\n",
    "    for n in range(n+1):\n",
    "        B[n, 0] = 1\n",
    "        # on affiche ligne par ligne\n",
    "        ligne = str(B[n, 0])+' '\n",
    "        for p in range(1, n+1):\n",
    "            B[n, p] = B[n-1, p-1]+B[n-1, p]\n",
    "            ligne += str(B[n, p])+' '\n",
    "        print(ligne)\n",
    "binomial(10)"
   ]
  },
  {
   "cell_type": "markdown",
   "metadata": {},
   "source": [
    "### Rendu de monnaie."
   ]
  },
  {
   "cell_type": "code",
   "execution_count": 27,
   "metadata": {},
   "outputs": [
    {
     "name": "stdout",
     "output_type": "stream",
     "text": [
      "5\n",
      "2\n"
     ]
    }
   ],
   "source": [
    "from math import floor\n",
    "# pièces et billets en euros\n",
    "euros = [1, 2, 5, 10, 20, 50]\n",
    "# ancien système britannique\n",
    "livres = [1, 3, 6, 12, 24, 30]\n",
    "\n",
    "\n",
    "def nb(s: int, pieces: int) -> int:\n",
    "    mem = {0: 0}\n",
    "    # valeur signifiant que le rendu est impossible\n",
    "    plafond = floor(s/min(pieces))+1\n",
    "\n",
    "    def nb_rec(x):\n",
    "        if x in mem:\n",
    "            r = mem[x]\n",
    "        else:\n",
    "            if x < min(pieces):\n",
    "                r = plafond\n",
    "            else:\n",
    "                sous_problemes = [\n",
    "                    nb_rec(x-p) for p in pieces if p <= x]\n",
    "                r = 1 + min(sous_problemes)\n",
    "            mem[x] = r\n",
    "        return r\n",
    "\n",
    "    n = nb_rec(s)\n",
    "    if n < plafond:\n",
    "        return n\n",
    "    else:\n",
    "        return -1 # aucune solution\n",
    "\n",
    "\n",
    "print(nb(48, euros))\n",
    "print(nb(48, livres))\n"
   ]
  },
  {
   "cell_type": "markdown",
   "metadata": {},
   "source": [
    "### Solution optimale."
   ]
  },
  {
   "cell_type": "code",
   "execution_count": 28,
   "metadata": {},
   "outputs": [
    {
     "name": "stdout",
     "output_type": "stream",
     "text": [
      "(5, [1, 2, 5, 20, 20])\n",
      "(2, [24, 24])\n"
     ]
    }
   ],
   "source": [
    "from math import floor\n",
    "euros = [1, 2, 5, 10, 20, 50]\n",
    "livres = [1, 3, 6, 12, 24, 30]\n",
    "\n",
    "\n",
    "def nb(s: int, pieces: list) -> int:\n",
    "    mem = {0: 0}\n",
    "    plafond = floor(s/min(pieces))+1\n",
    "\n",
    "    def nb_rec(x):\n",
    "        if x in mem:\n",
    "            r = mem[x]\n",
    "        else:\n",
    "            if x < min(pieces):\n",
    "                r = plafond\n",
    "            else:\n",
    "                sous_problemes = [\n",
    "                    nb_rec(x-p) for p in pieces if p <= x]\n",
    "                r = 1 + min(sous_problemes)\n",
    "            mem[x] = r\n",
    "        return r\n",
    "\n",
    "    n = nb_rec(s)\n",
    "    if n < plafond:\n",
    "        # Recherche d'une solution optimale\n",
    "        # avec les valeurs déjà calculées\n",
    "        solution = []\n",
    "        while s > 0:\n",
    "            minimum = plafond\n",
    "            piece_optimale = 0\n",
    "            # on retrouve la pièce optimale pour s\n",
    "            for p in pieces:\n",
    "                if p <= s and nb_rec(s-p) < minimum:\n",
    "                    minimum = nb_rec(s-p)\n",
    "                    piece_optimale = p\n",
    "            # on note la pièce optimale\n",
    "            solution.append(piece_optimale)\n",
    "            # on continue avec le sous-problème optimal\n",
    "            s -= piece_optimale\n",
    "        return n, solution\n",
    "    else:\n",
    "        return -1  # aucune solution\n",
    "\n",
    "\n",
    "print(nb(48, euros))\n",
    "print(nb(48, livres))\n"
   ]
  },
  {
   "cell_type": "markdown",
   "metadata": {},
   "source": [
    "## Plus longue sous-suite commune."
   ]
  },
  {
   "cell_type": "code",
   "execution_count": 29,
   "metadata": {},
   "outputs": [
    {
     "name": "stdout",
     "output_type": "stream",
     "text": [
      "4\n"
     ]
    }
   ],
   "source": [
    "def plsc(a: str, b: str) -> int:\n",
    "    mem = {(0, 0): 0} # pour la mémoïsation\n",
    "\n",
    "    def l(i: int, j: int) -> int:\n",
    "        if (i, j) not in mem:      # valeur non mémoïsée\n",
    "            if i == 0 or j == 0:   # une sous-chaîne est vide\n",
    "                retour = 0\n",
    "            elif a[i-1] == b[j-1]: # derniers caractères égaux\n",
    "                retour = 1 + l(i-1, j-1)\n",
    "            else:\n",
    "                retour = max(l(i, j-1), l(i-1, j))\n",
    "            mem[(i, j)] = retour\n",
    "        return mem[(i, j)]\n",
    "    return l(len(a), len(b))\n",
    "\n",
    "\n",
    "print(plsc('PROGRAMME', 'ORAGE'))"
   ]
  },
  {
   "cell_type": "markdown",
   "metadata": {},
   "source": [
    "### Solution optimale."
   ]
  },
  {
   "cell_type": "code",
   "execution_count": 30,
   "metadata": {},
   "outputs": [
    {
     "name": "stdout",
     "output_type": "stream",
     "text": [
      "[[0 0 0 0 0 0 0 0 0 0 0 0 0]\n",
      " [0 0 1 1 1 1 1 1 1 1 1 1 1]\n",
      " [0 0 1 1 2 2 2 2 2 2 2 2 2]\n",
      " [0 0 1 1 2 3 3 3 3 3 3 3 3]\n",
      " [0 0 1 1 2 3 3 3 3 3 3 3 4]\n",
      " [0 0 1 1 2 3 3 4 4 4 4 4 4]\n",
      " [0 0 1 2 2 3 4 4 5 5 5 5 5]\n",
      " [0 0 1 2 2 3 4 5 5 5 6 6 6]\n",
      " [0 1 1 2 2 3 4 5 5 6 6 6 6]\n",
      " [0 1 1 2 2 3 4 5 5 6 6 6 6]\n",
      " [0 1 1 2 3 3 4 5 5 6 6 6 7]\n",
      " [0 1 1 2 3 3 4 5 6 6 6 7 7]\n",
      " [0 1 2 2 3 4 4 5 6 6 7 7 7]]\n",
      "(7, 'ATAACAT')\n"
     ]
    }
   ],
   "source": [
    "import numpy as np\n",
    "\n",
    "def plsc(a, b):\n",
    "    mem = {(0, 0): 0}\n",
    "\n",
    "    def l(i, j):\n",
    "        if (i, j) in mem:\n",
    "            retour = mem[(i, j)]\n",
    "        else:\n",
    "            if i == 0 or j == 0:\n",
    "                retour = 0\n",
    "            elif a[i-1] == b[j-1]:\n",
    "                retour = 1 + l(i-1, j-1)\n",
    "            else:\n",
    "                retour = max(l(i, j-1), l(i-1, j))\n",
    "            mem[(i, j)] = retour\n",
    "        return retour\n",
    "    # Recherche d'une solution optimale à partir \n",
    "    # du tableau des valeurs l(i,j) calculées\n",
    "    sol = ''\n",
    "    i = len(a)\n",
    "    j = len(b)\n",
    "    while l(i,j)>0:\n",
    "        # On monte tant que l reste constant\n",
    "        while l(i, j) == l(i-1, j):\n",
    "            i -= 1\n",
    "        # On se déplace à gauche tant que l reste constant    \n",
    "        while l(i, j) == l(i, j-1):\n",
    "            j -= 1\n",
    "        # On a trouvé une lettre\n",
    "        sol += a[i-1]\n",
    "        i -= 1\n",
    "        j -= 1\n",
    "    # Matrice des valeurs de l(i,j)\n",
    "    A = np.array([[l(i, j) for j in range(len(b)+1)]\n",
    "                  for i in range(len(a)+1)])\n",
    "    print(A)\n",
    "    # sol[::-1] inverse l'ordre des lettres\n",
    "    return l(len(a), len(b)), sol[::-1]\n",
    "\n",
    "print(plsc('ATATACAGGTCA', 'GACTACACGACT'))\n",
    "# print(plsc('PROGRAMME', 'ORAGE'))"
   ]
  }
 ],
 "metadata": {
  "kernelspec": {
   "display_name": "Python 3.9.6 64-bit",
   "language": "python",
   "name": "python3"
  },
  "language_info": {
   "codemirror_mode": {
    "name": "ipython",
    "version": 3
   },
   "file_extension": ".py",
   "mimetype": "text/x-python",
   "name": "python",
   "nbconvert_exporter": "python",
   "pygments_lexer": "ipython3",
   "version": "3.9.6"
  },
  "orig_nbformat": 4,
  "vscode": {
   "interpreter": {
    "hash": "11938c6bc6919ae2720b4d5011047913343b08a43b18698fd82dedb0d4417594"
   }
  }
 },
 "nbformat": 4,
 "nbformat_minor": 2
}
